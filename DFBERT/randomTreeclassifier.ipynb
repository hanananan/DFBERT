{
 "cells": [
  {
   "cell_type": "code",
   "execution_count": 14,
   "metadata": {
    "collapsed": true
   },
   "outputs": [
    {
     "name": "stderr",
     "output_type": "stream",
     "text": [
      "Found cached dataset csv (C:/Users/hananan/.cache/huggingface/datasets/csv/default-8da44ea3a2922b52/0.0.0/6b34fb8fcf56f7c8ba51dc895bfa2bfbe43546f190a60fcf74bb5e8afdcc2317)\n"
     ]
    },
    {
     "data": {
      "text/plain": "  0%|          | 0/1 [00:00<?, ?it/s]",
      "application/vnd.jupyter.widget-view+json": {
       "version_major": 2,
       "version_minor": 0,
       "model_id": "c9502c7929254f52803f578e8df10bb9"
      }
     },
     "metadata": {},
     "output_type": "display_data"
    },
    {
     "name": "stderr",
     "output_type": "stream",
     "text": [
      "Found cached dataset csv (C:/Users/hananan/.cache/huggingface/datasets/csv/default-c5ac086a14490f6c/0.0.0/6b34fb8fcf56f7c8ba51dc895bfa2bfbe43546f190a60fcf74bb5e8afdcc2317)\n"
     ]
    },
    {
     "data": {
      "text/plain": "  0%|          | 0/1 [00:00<?, ?it/s]",
      "application/vnd.jupyter.widget-view+json": {
       "version_major": 2,
       "version_minor": 0,
       "model_id": "1140feee77b44e8c8382c6abd5b692eb"
      }
     },
     "metadata": {},
     "output_type": "display_data"
    },
    {
     "data": {
      "text/plain": "(1998,\n ('title:BinaryFocalCrossentropy loss not working description:Click to expand!   ### Issue TypeBug### Sourcesource### Tensorflow Version2.9.1### Custom CodeNo### OS Platform and DistributionWindows 10### Mobile device_No response_### Python version3.9### Bazel version_No response_### GCC/Compiler version_No response_### CUDA/cuDNN version11.2### GPU model and memoryNVIDIA Quadro T2000### Current Behaviour?```shellI\\'m not able to declare BinaryFocalCrossentropy loss function when apply_class_balancing or alpha arguments are provided.```### Standalone code to reproduce the issue```shellimport tensorflow as tfloss = tf.keras.losses.BinaryFocalCrossentropy(    apply_class_balancing=False,    alpha=0.25,    gamma=2.0,    from_logits=False,    label_smoothing=0.0)```### Relevant log output```shellTraceback (most recent call last):  File \"C:\\\\Users\\\\User\\\\AppData\\\\Roaming\\\\Python\\\\Python39\\\\site-packages\\\\IPython\\\\core\\\\interactiveshell.py\", line 3251, in run_code    exec(code_obj, self.user_global_ns, self.user_ns)  File \"<ipython-input-8-235cf9a4168d>\", line 1, in <module>    loss = tf.keras.losses.BinaryFocalCrossentropy(TypeError: __init__() got an unexpected keyword argument \\'apply_class_balancing\\'```</details>\\r\\n',\n  0),\n 499,\n (\"title:TYP: Add type annotations for comparison operators to MaskedArray. description:Backport of #23328.The comparison operators seem to be missing annotations; whereas pretty much every other operator is annotated.This causes pytype to conclude that the output of, say, `__gt__` is a regular ndarray, which isn't true.<!--         ----------------------------------------------------------------                MAKE SURE YOUR PR GETS THE ATTENTION IT DESERVES!                ----------------------------------------------------------------*  FORMAT IT RIGHT:      https://www.numpy.org/devdocs/dev/development_workflow.html#writing-the-commit-message*  IF IT'S A NEW FEATURE OR API CHANGE, TEST THE WATERS:      https://www.numpy.org/devdocs/dev/development_workflow.html#get-the-mailing-list-s-opinion*  HIT ALL THE GUIDELINES:      https://numpy.org/devdocs/dev/index.html#guidelines*  WHAT TO DO IF WE HAVEN'T GOTTEN BACK TO YOU:      https://www.numpy.org/devdocs/dev/development_workflow.html#getting-your-pr-reviewed-->\\r\\n\",\n  0))"
     },
     "execution_count": 14,
     "metadata": {},
     "output_type": "execute_result"
    }
   ],
   "source": [
    "from datasets import load_dataset\n",
    "from datasets import load_from_disk\n",
    "from sklearn.feature_extraction.text import CountVectorizer\n",
    "from sklearn.ensemble import RandomForestClassifier\n",
    "from sklearn.pipeline import make_pipeline\n",
    "from sklearn.metrics import accuracy_score\n",
    "from sklearn.model_selection import train_test_split\n",
    "\n",
    "#定义数据集\n",
    "class Dataset:\n",
    "    def __init__(self):\n",
    "        self.dataset = load_dataset(path='csv', data_dir='D:\\\\hzrproject\\\\study\\\\data_set',data_files='issueDataNoNumpy.csv')['train']\n",
    "\n",
    "\n",
    "    def __len__(self):\n",
    "\n",
    "        return len(self.dataset)\n",
    "\n",
    "    def __getitem__(self, i):\n",
    "        ds = self.dataset[i]['ds']\n",
    "        label = self.dataset[i]['label']\n",
    "        # ans = self.dataset[i]['ans']\n",
    "        # num = self.dataset[i]['num']\n",
    "\n",
    "        return ds, label\n",
    "\n",
    "class Dataset_validation:\n",
    "    def __init__(self):\n",
    "        self.dataset_validation = load_dataset(path='csv',  data_dir='D:\\\\hzrproject\\\\study\\\\data_set',data_files='issueDataNumpy.csv')['train']\n",
    "\n",
    "    def __len__(self):\n",
    "        return len(self.dataset_validation)\n",
    "\n",
    "    def __getitem__(self, i):\n",
    "        ds = self.dataset_validation[i]['ds']\n",
    "        label = self.dataset_validation[i]['label']\n",
    "        # ans = self.dataset_validation[i]['ans']\n",
    "        # num = self.dataset_validation[i]['num']\n",
    "\n",
    "        return ds, label\n",
    "\n",
    "\n",
    "dataset = Dataset()\n",
    "dataset_validation = Dataset_validation()\n",
    "\n",
    "\n",
    "len(dataset), dataset[0], len(dataset_validation), dataset_validation[0]"
   ]
  },
  {
   "cell_type": "code",
   "execution_count": 15,
   "outputs": [
    {
     "name": "stdout",
     "output_type": "stream",
     "text": [
      "Accuracy: 0.7234468937875751\n",
      "Precision: 0.9205020920502092\n",
      "Recall: 0.6489675516224189\n",
      "F1-score: 0.7612456747404844\n",
      "AUC score: 0.7651087758112095\n"
     ]
    }
   ],
   "source": [
    "from sklearn.metrics import precision_recall_fscore_support, roc_auc_score\n",
    "# Create instance of Dataset class and split into train and test sets\n",
    "\n",
    "X_train = dataset.dataset['ds']\n",
    "X_test = dataset_validation.dataset_validation['ds']\n",
    "y_train = dataset.dataset['label']\n",
    "y_test = dataset_validation.dataset_validation['label']\n",
    "#X_train, X_test, y_train, y_test = train_test_split(dataset.dataset['ds'], dataset.dataset['label'], test_size=0.2, random_state=42)\n",
    "\n",
    "# Create pipeline with CountVectorizer and RandomForestClassifier\n",
    "pipeline = make_pipeline(CountVectorizer(), RandomForestClassifier())\n",
    "\n",
    "# Fit pipeline to training data\n",
    "for epoch in range(20):\n",
    "    pipeline.fit(X_train, y_train)\n",
    "\n",
    "# Make predictions on test data\n",
    "y_pred = pipeline.predict(X_test)\n",
    "\n",
    "# Evaluate accuracy of predictions\n",
    "accuracy = accuracy_score(y_test, y_pred)\n",
    "precision, recall, f1_score, _ = precision_recall_fscore_support(y_test, y_pred, pos_label=0, average='binary')\n",
    "auc_score = roc_auc_score(y_test, y_pred)\n",
    "\n",
    "print(f\"Accuracy: {accuracy}\")\n",
    "print(f\"Precision: {precision}\")\n",
    "print(f\"Recall: {recall}\")\n",
    "print(f\"F1-score: {f1_score}\")\n",
    "print(f\"AUC score: {auc_score}\")"
   ],
   "metadata": {
    "collapsed": false
   }
  },
  {
   "cell_type": "code",
   "execution_count": null,
   "outputs": [],
   "source": [],
   "metadata": {
    "collapsed": false
   }
  }
 ],
 "metadata": {
  "kernelspec": {
   "display_name": "Python 3",
   "language": "python",
   "name": "python3"
  },
  "language_info": {
   "codemirror_mode": {
    "name": "ipython",
    "version": 2
   },
   "file_extension": ".py",
   "mimetype": "text/x-python",
   "name": "python",
   "nbconvert_exporter": "python",
   "pygments_lexer": "ipython2",
   "version": "2.7.6"
  }
 },
 "nbformat": 4,
 "nbformat_minor": 0
}
